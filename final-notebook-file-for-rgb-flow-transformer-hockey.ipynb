{
 "cells": [
  {
   "cell_type": "markdown",
   "metadata": {},
   "source": [
    "### Imports"
   ]
  },
  {
   "cell_type": "code",
   "execution_count": 1,
   "metadata": {
    "execution": {
     "iopub.execute_input": "2023-12-11T09:22:31.481847Z",
     "iopub.status.busy": "2023-12-11T09:22:31.481327Z",
     "iopub.status.idle": "2023-12-11T09:22:48.632131Z",
     "shell.execute_reply": "2023-12-11T09:22:48.630531Z",
     "shell.execute_reply.started": "2023-12-11T09:22:31.481804Z"
    }
   },
   "outputs": [],
   "source": [
    "%matplotlib inline\n",
    "import cv2\n",
    "import os\n",
    "import numpy as np\n",
    "import keras\n",
    "import matplotlib.pyplot as plt\n",
    "# import download\n",
    "from random import shuffle\n",
    "from tensorflow.keras.applications import VGG16\n",
    "from tensorflow.keras import backend as K\n",
    "from tensorflow.keras.models import Model, Sequential\n",
    "from tensorflow.keras.layers import Input\n",
    "from tensorflow.keras.layers import LSTM\n",
    "from tensorflow.keras.layers import Dense, Activation\n",
    "import sys\n",
    "import h5py"
   ]
  },
  {
   "cell_type": "markdown",
   "metadata": {},
   "source": [
    "### RGBFlow Transformer"
   ]
  },
  {
   "cell_type": "code",
   "execution_count": 3,
   "metadata": {
    "execution": {
     "iopub.execute_input": "2023-12-11T09:22:59.391906Z",
     "iopub.status.busy": "2023-12-11T09:22:59.389972Z",
     "iopub.status.idle": "2023-12-11T09:22:59.805916Z",
     "shell.execute_reply": "2023-12-11T09:22:59.804193Z",
     "shell.execute_reply.started": "2023-12-11T09:22:59.391836Z"
    }
   },
   "outputs": [],
   "source": [
    "class HDF5DatasetRGBFlow(tf.keras.utils.Sequence):\n",
    "    def __init__(self, data_dir1, data_dir2, batch_size=32):\n",
    "        self.data_dir1 = data_dir1\n",
    "        self.data_dir2 = data_dir2\n",
    "        self.batch_size = batch_size\n",
    "        self.file_list = [file for file in os.listdir(data_dir1) if file.endswith('.h5')]\n",
    "        self.num_samples = len(self.file_list)\n",
    "\n",
    "    def __len__(self):\n",
    "        return self.num_samples // self.batch_size\n",
    "\n",
    "    def __getitem__(self, index):\n",
    "        batch_files = self.file_list[index * self.batch_size: (index + 1) * self.batch_size]\n",
    "\n",
    "        batch_inputs = []\n",
    "        batch_targets = []\n",
    "\n",
    "        for file_name in batch_files:\n",
    "            file_path1 = os.path.join(self.data_dir1, file_name)\n",
    "            file_path2 = os.path.join(self.data_dir2, file_name)\n",
    "            temp = []\n",
    "            with h5py.File(file_path1, 'r') as hf:\n",
    "                # Load data and label from HDF5 file\n",
    "                input_data1 = hf['data'][:]  \n",
    "                \n",
    "                target_data1 = hf['labels'][:]  \n",
    "                \n",
    "                temp.append(input_data1)\n",
    "                \n",
    "                with h5py.File(file_path2, 'r') as f:\n",
    "                # Load data and label from HDF5 file\n",
    "                    input_data2 = f['data'][:]  \n",
    "                    target_data2 = f['labels'][:]  \n",
    "                    temp.append(input_data2)\n",
    "                batch_inputs.append(np.array(temp))\n",
    "                batch_targets.append(target_data1)\n",
    "\n",
    "        return tf.convert_to_tensor(batch_inputs), tf.convert_to_tensor(batch_targets)\n",
    "\n",
    "data_directory_train = 'filedata/train'  \n",
    "data_directory_valid = 'filedata/valid'\n",
    "data_directory_test = 'filedata/test'\n",
    "data_directory_train_flow = 'filedata/train1'  \n",
    "data_directory_valid_flow = 'filedata/valid1'\n",
    "data_directory_test_flow = 'filedata/test1'\n",
    "\n",
    "batch_size = 32\n",
    "train_loader = HDF5DatasetRGBFlow(data_directory_train, data_directory_train_flow, batch_size=batch_size)\n",
    "valid_loader = HDF5DatasetRGBFlow(data_directory_valid, data_directory_valid_flow, batch_size=batch_size)\n",
    "test_loader = HDF5DatasetRGBFlow(data_directory_test, data_directory_test_flow, batch_size=batch_size)"
   ]
  },
  {
   "cell_type": "code",
   "execution_count": 4,
   "metadata": {
    "execution": {
     "iopub.execute_input": "2023-12-11T09:23:03.345023Z",
     "iopub.status.busy": "2023-12-11T09:23:03.343712Z",
     "iopub.status.idle": "2023-12-11T09:23:03.354371Z",
     "shell.execute_reply": "2023-12-11T09:23:03.353280Z",
     "shell.execute_reply.started": "2023-12-11T09:23:03.344912Z"
    }
   },
   "outputs": [],
   "source": [
    "from keras import backend as K \n",
    "BATCH_SIZE = 240               \n",
    "AUTO = tf.data.AUTOTUNE             \n",
    "INPUT_SHAPE = (2, 20, 14, 14, 512)      \n",
    "NUM_CLASSES = 2                      \n",
    "\n",
    "# OPTIMIZER\n",
    "LEARNING_RATE = 1e-4\n",
    "WEIGHT_DECAY = 1e-5\n",
    "\n",
    "# TRAINING\n",
    "EPOCHS = 20\n",
    "\n",
    "# TUBELET EMBEDDING\n",
    "PATCH_SIZE = (4, 2, 2)                # Patch size to divide input of size (20, 14, 14) i.e., (Frames * Transfer_Img_Size * Transfer_Img_Size)\n",
    "NUM_PATCHES = (INPUT_SHAPE[1] // PATCH_SIZE[0]) ** 2 \n",
    "LAYER_NORM_EPS = 1e-6\n",
    "PROJECTION_DIM = 128\n",
    "NUM_HEADS = 8\n",
    "NUM_LAYERS = 8"
   ]
  },
  {
   "cell_type": "code",
   "execution_count": 5,
   "metadata": {
    "execution": {
     "iopub.execute_input": "2023-12-11T09:23:07.542048Z",
     "iopub.status.busy": "2023-12-11T09:23:07.541619Z",
     "iopub.status.idle": "2023-12-11T09:23:07.551907Z",
     "shell.execute_reply": "2023-12-11T09:23:07.549508Z",
     "shell.execute_reply.started": "2023-12-11T09:23:07.542002Z"
    }
   },
   "outputs": [],
   "source": [
    "class TubeletEmbedding(layers.Layer):\n",
    "    def __init__(self, embed_dim, patch_size, **kwargs):\n",
    "        super().__init__(**kwargs)\n",
    "        self.projection = layers.Conv3D(\n",
    "            filters=embed_dim,\n",
    "            kernel_size=patch_size,\n",
    "            strides=patch_size,\n",
    "            padding=\"VALID\",\n",
    "        )\n",
    "        self.flatten = layers.Reshape(target_shape=(-1, embed_dim))\n",
    "\n",
    "    def call(self, videos):\n",
    "        projected_patches = self.projection(videos)\n",
    "        flattened_patches = self.flatten(projected_patches)\n",
    "        return flattened_patches"
   ]
  },
  {
   "cell_type": "code",
   "execution_count": 6,
   "metadata": {
    "execution": {
     "iopub.execute_input": "2023-12-11T09:23:10.430510Z",
     "iopub.status.busy": "2023-12-11T09:23:10.429661Z",
     "iopub.status.idle": "2023-12-11T09:23:10.440105Z",
     "shell.execute_reply": "2023-12-11T09:23:10.438450Z",
     "shell.execute_reply.started": "2023-12-11T09:23:10.430416Z"
    }
   },
   "outputs": [],
   "source": [
    "class PositionalEncoder(layers.Layer):\n",
    "    def __init__(self, embed_dim, **kwargs):\n",
    "        super().__init__(**kwargs)\n",
    "        self.embed_dim = embed_dim\n",
    "\n",
    "    def build(self, input_shape):\n",
    "        _, num_tokens, _ = input_shape\n",
    "        self.position_embedding = layers.Embedding(\n",
    "            input_dim=num_tokens, output_dim=self.embed_dim\n",
    "        )\n",
    "        self.positions = tf.range(start=0, limit=num_tokens, delta=1)\n",
    "\n",
    "    def call(self, encoded_tokens):\n",
    "        # Encode the positions and add it to the encoded tokens\n",
    "        encoded_positions = self.position_embedding(self.positions)\n",
    "        encoded_tokens = encoded_tokens + encoded_positions\n",
    "        return encoded_tokens"
   ]
  },
  {
   "cell_type": "code",
   "execution_count": 11,
   "metadata": {
    "execution": {
     "iopub.execute_input": "2023-12-11T13:43:58.823760Z",
     "iopub.status.busy": "2023-12-11T13:43:58.822742Z",
     "iopub.status.idle": "2023-12-11T13:43:58.847429Z",
     "shell.execute_reply": "2023-12-11T13:43:58.844982Z",
     "shell.execute_reply.started": "2023-12-11T13:43:58.823719Z"
    }
   },
   "outputs": [],
   "source": [
    "def create_vivit_classifier(\n",
    "    tubelet_embedder,\n",
    "    positional_encoder,\n",
    "    input_shape=INPUT_SHAPE,\n",
    "    transformer_layers=NUM_LAYERS,\n",
    "    num_heads=NUM_HEADS,\n",
    "    embed_dim=PROJECTION_DIM,\n",
    "    layer_norm_eps=LAYER_NORM_EPS,\n",
    "    num_classes=NUM_CLASSES,\n",
    "):\n",
    "    \n",
    "    inputs = layers.Input(shape=input_shape)\n",
    "    reshaped_inputs = tf.reshape(inputs, (32, 40, 14, 14, 512))\n",
    "    input1, input2 = tf.split(reshaped_inputs, num_or_size_splits=2, axis=1)\n",
    "    print(inputs.shape, input1.shape, input2.shape)\n",
    "    \n",
    "    patches1 = tubelet_embedder(input1)\n",
    "    encoded_patches1 = positional_encoder(patches1)\n",
    "\n",
    "    for _ in range(transformer_layers):\n",
    "        attention_output = layers.MultiHeadAttention(\n",
    "            num_heads=num_heads, key_dim=embed_dim // num_heads, dropout=0.1\n",
    "        )(encoded_patches1, encoded_patches1)\n",
    "        x2 = layers.Add()([attention_output, encoded_patches1])\n",
    "\n",
    "        x3 = layers.LayerNormalization(epsilon=1e-6)(x2)\n",
    "        x3 = keras.Sequential(\n",
    "            [\n",
    "                layers.Dense(units=embed_dim * 4, activation=tf.nn.gelu),\n",
    "                layers.Dense(units=embed_dim, activation=tf.nn.gelu),\n",
    "            ]\n",
    "        )(x3)\n",
    "\n",
    "        encoded_patches1 = x3\n",
    "\n",
    "    representation1 = encoded_patches1\n",
    "    patches2 = tubelet_embedder(input2)\n",
    "    encoded_patches2 = positional_encoder(patches2)\n",
    "\n",
    "    for _ in range(transformer_layers):\n",
    "        attention_output = layers.MultiHeadAttention(\n",
    "            num_heads=num_heads, key_dim=embed_dim // num_heads, dropout=0.1\n",
    "        )(encoded_patches2, encoded_patches2)\n",
    "        x2 = layers.Add()([attention_output, encoded_patches2])\n",
    "        x3 = layers.LayerNormalization(epsilon=1e-6)(x2)\n",
    "        x3 = keras.Sequential(\n",
    "            [\n",
    "                layers.Dense(units=embed_dim * 4, activation=tf.nn.gelu),\n",
    "                layers.Dense(units=embed_dim, activation=tf.nn.gelu),\n",
    "            ]\n",
    "        )(x3)\n",
    "        encoded_patches2 = x3\n",
    "    \n",
    "    representation2 = layers.Dense(embed_dim, activation=tf.nn.gelu)(encoded_patches2)\n",
    "    \n",
    "    representation = layers.Add()([representation1, representation2])\n",
    "    \n",
    "    attention_representation = layers.MultiHeadAttention(\n",
    "        num_heads=num_heads, key_dim=embed_dim // num_heads, dropout=0.1\n",
    "    )(representation, representation)\n",
    "    \n",
    "    representation = layers.LayerNormalization(epsilon=layer_norm_eps)(attention_representation)\n",
    "    \n",
    "    representation = layers.GlobalAvgPool1D()(representation)\n",
    "\n",
    "    outputs = layers.Dense(units=num_classes, activation=\"softmax\")(representation)\n",
    "    print(outputs.shape)\n",
    "    model = keras.Model(inputs=inputs, outputs=outputs)\n",
    "    return model"
   ]
  },
  {
   "cell_type": "code",
   "execution_count": 12,
   "metadata": {
    "execution": {
     "iopub.execute_input": "2023-12-11T13:44:17.751770Z",
     "iopub.status.busy": "2023-12-11T13:44:17.751176Z",
     "iopub.status.idle": "2023-12-11T16:30:29.780665Z",
     "shell.execute_reply": "2023-12-11T16:30:29.773686Z",
     "shell.execute_reply.started": "2023-12-11T13:44:17.751724Z"
    }
   },
   "outputs": [
    {
     "name": "stdout",
     "output_type": "stream",
     "text": [
      "(None, 2, 20, 14, 14, 512) (32, 20, 14, 14, 512) (32, 20, 14, 14, 512)\n",
      "(32, 2)\n",
      "Epoch 1/20\n",
      "22/22 [==============================] - 540s 22s/step - loss: 0.7650 - accuracy: 0.6435 - val_loss: 0.3877 - val_accuracy: 0.8906\n",
      "Epoch 2/20\n",
      "22/22 [==============================] - 464s 20s/step - loss: 0.3165 - accuracy: 0.8991 - val_loss: 0.2289 - val_accuracy: 0.8906\n",
      "Epoch 3/20\n",
      "22/22 [==============================] - 478s 21s/step - loss: 0.2067 - accuracy: 0.9247 - val_loss: 0.1258 - val_accuracy: 0.9531\n",
      "Epoch 4/20\n",
      "22/22 [==============================] - 492s 22s/step - loss: 0.1397 - accuracy: 0.9588 - val_loss: 0.0987 - val_accuracy: 0.9844\n",
      "Epoch 5/20\n",
      "22/22 [==============================] - 451s 20s/step - loss: 0.1277 - accuracy: 0.9602 - val_loss: 0.1308 - val_accuracy: 0.9531\n",
      "Epoch 6/20\n",
      "22/22 [==============================] - 439s 19s/step - loss: 0.0832 - accuracy: 0.9688 - val_loss: 0.0928 - val_accuracy: 0.9688\n",
      "Epoch 7/20\n",
      "22/22 [==============================] - 462s 20s/step - loss: 0.0833 - accuracy: 0.9673 - val_loss: 0.2027 - val_accuracy: 0.9531\n",
      "Epoch 8/20\n",
      "22/22 [==============================] - 465s 20s/step - loss: 0.0581 - accuracy: 0.9787 - val_loss: 0.0871 - val_accuracy: 0.9531\n",
      "Epoch 9/20\n",
      "22/22 [==============================] - 491s 22s/step - loss: 0.0771 - accuracy: 0.9773 - val_loss: 0.1344 - val_accuracy: 0.9375\n",
      "Epoch 10/20\n",
      "22/22 [==============================] - 473s 21s/step - loss: 0.0569 - accuracy: 0.9801 - val_loss: 0.2223 - val_accuracy: 0.9219\n",
      "Epoch 11/20\n",
      "22/22 [==============================] - 476s 21s/step - loss: 0.0225 - accuracy: 0.9915 - val_loss: 0.1195 - val_accuracy: 0.9844\n",
      "Epoch 12/20\n",
      "22/22 [==============================] - 488s 21s/step - loss: 0.0101 - accuracy: 0.9943 - val_loss: 0.0826 - val_accuracy: 0.9688\n",
      "Epoch 13/20\n",
      "22/22 [==============================] - 495s 22s/step - loss: 0.0051 - accuracy: 0.9986 - val_loss: 0.0756 - val_accuracy: 0.9844\n",
      "Epoch 14/20\n",
      "22/22 [==============================] - 445s 19s/step - loss: 6.6553e-04 - accuracy: 1.0000 - val_loss: 0.0690 - val_accuracy: 0.9844\n",
      "Epoch 15/20\n",
      "22/22 [==============================] - 442s 19s/step - loss: 2.8858e-04 - accuracy: 1.0000 - val_loss: 0.0672 - val_accuracy: 0.9844\n",
      "Epoch 16/20\n",
      "22/22 [==============================] - 481s 21s/step - loss: 1.8267e-04 - accuracy: 1.0000 - val_loss: 0.0743 - val_accuracy: 0.9844\n",
      "Epoch 17/20\n",
      "22/22 [==============================] - 502s 22s/step - loss: 1.4328e-04 - accuracy: 1.0000 - val_loss: 0.0769 - val_accuracy: 0.9844\n",
      "Epoch 18/20\n",
      "22/22 [==============================] - 530s 23s/step - loss: 1.1751e-04 - accuracy: 1.0000 - val_loss: 0.0784 - val_accuracy: 0.9844\n",
      "Epoch 19/20\n",
      "22/22 [==============================] - 511s 22s/step - loss: 9.9373e-05 - accuracy: 1.0000 - val_loss: 0.0798 - val_accuracy: 0.9844\n",
      "Epoch 20/20\n",
      "22/22 [==============================] - 481s 21s/step - loss: 8.6481e-05 - accuracy: 1.0000 - val_loss: 0.0807 - val_accuracy: 0.9844\n"
     ]
    }
   ],
   "source": [
    "def run_experiment():\n",
    "    model = create_vivit_classifier(\n",
    "        tubelet_embedder=TubeletEmbedding(\n",
    "            embed_dim=PROJECTION_DIM, patch_size=PATCH_SIZE\n",
    "        ),\n",
    "        positional_encoder=PositionalEncoder(embed_dim=PROJECTION_DIM),\n",
    "    )\n",
    "    optimizer = keras.optimizers.Adam(learning_rate=LEARNING_RATE)\n",
    "    model.compile(\n",
    "        optimizer=optimizer,\n",
    "        loss=tf.keras.losses.CategoricalCrossentropy(),\n",
    "        metrics=['accuracy'\n",
    "        ],\n",
    "    )\n",
    "\n",
    "    model2 = model.fit(train_loader, epochs=20, validation_data=valid_loader)\n",
    "    return model, model2\n",
    "\n",
    "model, history = run_experiment()"
   ]
  },
  {
   "cell_type": "code",
   "execution_count": 13,
   "metadata": {
    "execution": {
     "iopub.execute_input": "2023-12-11T16:30:29.795657Z",
     "iopub.status.busy": "2023-12-11T16:30:29.794941Z",
     "iopub.status.idle": "2023-12-11T16:32:44.966795Z",
     "shell.execute_reply": "2023-12-11T16:32:44.963937Z",
     "shell.execute_reply.started": "2023-12-11T16:30:29.795609Z"
    }
   },
   "outputs": [
    {
     "name": "stdout",
     "output_type": "stream",
     "text": [
      "6/6 [==============================] - 117s 19s/step - loss: 0.4006 - accuracy: 0.9479\n"
     ]
    }
   ],
   "source": [
    "result = model.evaluate(test_loader)"
   ]
  },
  {
   "cell_type": "code",
   "execution_count": 14,
   "metadata": {
    "execution": {
     "iopub.execute_input": "2023-12-11T16:32:44.972973Z",
     "iopub.status.busy": "2023-12-11T16:32:44.972034Z",
     "iopub.status.idle": "2023-12-11T16:32:46.480845Z",
     "shell.execute_reply": "2023-12-11T16:32:46.478174Z",
     "shell.execute_reply.started": "2023-12-11T16:32:44.972927Z"
    }
   },
   "outputs": [
    {
     "data": {
      "image/png": "[encoded data removed]",
      "text/plain": [
       "<Figure size 640x480 with 1 Axes>"
      ]
     },
     "metadata": {},
     "output_type": "display_data"
    },
    {
     "data": {
      "image/png": "[encoded data removed]",
      "text/plain": [
       "<Figure size 640x480 with 1 Axes>"
      ]
     },
     "metadata": {},
     "output_type": "display_data"
    }
   ],
   "source": [
    "plt.plot(history.history['accuracy'])\n",
    "plt.plot(history.history['val_accuracy'])\n",
    "plt.title('model accuracy')\n",
    "plt.ylabel('accuracy')\n",
    "plt.xlabel('epoch')\n",
    "plt.legend(['train', 'validation'], loc='upper left')\n",
    "plt.savefig('destination_path.eps', format='eps', dpi=1000)\n",
    "plt.show()\n",
    "\n",
    "plt.plot(history.history['loss'])\n",
    "plt.plot(history.history['val_loss'])\n",
    "plt.title('model loss')\n",
    "plt.ylabel('loss')\n",
    "plt.xlabel('epoch')\n",
    "plt.legend(['train', 'validation'], loc='upper left')\n",
    "plt.savefig('destination_path1.eps', format='eps', dpi=1000)\n",
    "plt.show()"
   ]
  }
 ],
 "metadata": {
  "kaggle": {
   "accelerator": "none",
   "dataSources": [
    {
     "datasetId": 1132746,
     "sourceId": 1900619,
     "sourceType": "datasetVersion"
    },
    {
     "sourceId": 154392283,
     "sourceType": "kernelVersion"
    }
   ],
   "dockerImageVersionId": 30616,
   "isGpuEnabled": false,
   "isInternetEnabled": true,
   "language": "python",
   "sourceType": "notebook"
  },
  "kernelspec": {
   "display_name": "Python 3 (ipykernel)",
   "language": "python",
   "name": "python3"
  },
  "language_info": {
   "codemirror_mode": {
    "name": "ipython",
    "version": 3
   },
   "file_extension": ".py",
   "mimetype": "text/x-python",
   "name": "python",
   "nbconvert_exporter": "python",
   "pygments_lexer": "ipython3",
   "version": "3.10.9"
  }
 },
 "nbformat": 4,
 "nbformat_minor": 4
}
